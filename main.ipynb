{
 "cells": [
  {
   "cell_type": "code",
   "execution_count": 2,
   "id": "05385368",
   "metadata": {},
   "outputs": [],
   "source": [
    "import pandas as pd"
   ]
  },
  {
   "cell_type": "markdown",
   "id": "502a2150",
   "metadata": {},
   "source": [
    "## Exercise 1"
   ]
  },
  {
   "cell_type": "markdown",
   "id": "0353b191",
   "metadata": {},
   "source": [
    "### 1.1 - Load the dataset, inspect feature names and target distribution. Comment on dataset imbalance. "
   ]
  },
  {
   "cell_type": "code",
   "execution_count": 15,
   "id": "99116973",
   "metadata": {},
   "outputs": [
    {
     "name": "stdout",
     "output_type": "stream",
     "text": [
      "Feature names: ['id', 'diagnosis', 'radius_mean', 'texture_mean', 'perimeter_mean', 'area_mean', 'smoothness_mean', 'compactness_mean', 'concavity_mean', 'concave points_mean', 'symmetry_mean', 'fractal_dimension_mean', 'radius_se', 'texture_se', 'perimeter_se', 'area_se', 'smoothness_se', 'compactness_se', 'concavity_se', 'concave points_se', 'symmetry_se', 'fractal_dimension_se', 'radius_worst', 'texture_worst', 'perimeter_worst', 'area_worst', 'smoothness_worst', 'compactness_worst', 'concavity_worst', 'concave points_worst', 'symmetry_worst', 'fractal_dimension_worst', 'Unnamed: 32']\n",
      "diagnosis\n",
      "B    357\n",
      "M    212\n",
      "Name: count, dtype: int64\n",
      "\n",
      "Fraction:\n",
      " diagnosis\n",
      "B    0.627417\n",
      "M    0.372583\n",
      "Name: proportion, dtype: float64\n"
     ]
    }
   ],
   "source": [
    "df = pd.read_csv('data.csv')\n",
    "# Finn ut hva som menes med Feature names og target distribution, boka maybe\n",
    "\n",
    "# Feature names\n",
    "print(\"Feature names:\", list(df.columns))\n",
    "\n",
    "\n",
    "# Target distribution\n",
    "print(df['diagnosis'].value_counts())\n",
    "print(\"\\nFraction:\\n\", df['diagnosis'].value_counts(normalize=True))"
   ]
  },
  {
   "cell_type": "markdown",
   "id": "14f4683f",
   "metadata": {},
   "source": [
    "The dataset is a bit unbalanced, as it does have more benign than malicious data, but I think the amount of malicious data is enough. If I am unlucky the random splits might turn out with too few malicious but it should be enough."
   ]
  }
 ],
 "metadata": {
  "kernelspec": {
   "display_name": "base",
   "language": "python",
   "name": "python3"
  },
  "language_info": {
   "codemirror_mode": {
    "name": "ipython",
    "version": 3
   },
   "file_extension": ".py",
   "mimetype": "text/x-python",
   "name": "python",
   "nbconvert_exporter": "python",
   "pygments_lexer": "ipython3",
   "version": "3.13.5"
  }
 },
 "nbformat": 4,
 "nbformat_minor": 5
}
